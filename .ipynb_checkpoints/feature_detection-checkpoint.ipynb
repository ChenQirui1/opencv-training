{
 "cells": [
  {
   "cell_type": "markdown",
   "id": "bb54ec42-bb6c-491f-894b-c510435410dd",
   "metadata": {},
   "source": [
    "## Understanding Features\n",
    "\n",
    "https://docs.opencv.org/4.x/df/d54/tutorial_py_features_meaning.html"
   ]
  },
  {
   "cell_type": "markdown",
   "id": "241f4420-aa75-4381-90e9-9317d7d8d34e",
   "metadata": {},
   "source": [
    "## ORB\n",
    "\n",
    "https://docs.opencv.org/4.x/d1/d89/tutorial_py_orb.html"
   ]
  },
  {
   "cell_type": "markdown",
   "id": "2a8fdf59-23b7-4cb7-8d36-d99282ba8ae3",
   "metadata": {},
   "source": [
    "## Feature Matching\n",
    "\n",
    "https://docs.opencv.org/4.x/dc/dc3/tutorial_py_matcher.html"
   ]
  },
  {
   "cell_type": "markdown",
   "id": "cbfb0f77-cd36-4010-8ddf-661e51ee8f3d",
   "metadata": {},
   "source": [
    "## Feature Matching + Homography to find Objects\n",
    "\n",
    "https://docs.opencv.org/4.x/d1/de0/tutorial_py_feature_homography.html"
   ]
  }
 ],
 "metadata": {
  "kernelspec": {
   "display_name": "Python 3 (ipykernel)",
   "language": "python",
   "name": "python3"
  },
  "language_info": {
   "codemirror_mode": {
    "name": "ipython",
    "version": 3
   },
   "file_extension": ".py",
   "mimetype": "text/x-python",
   "name": "python",
   "nbconvert_exporter": "python",
   "pygments_lexer": "ipython3",
   "version": "3.12.2"
  }
 },
 "nbformat": 4,
 "nbformat_minor": 5
}
